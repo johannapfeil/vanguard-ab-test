{
 "cells": [
  {
   "cell_type": "markdown",
   "id": "b978cc44",
   "metadata": {},
   "source": [
    "# Hypothesis Testing\n",
    "\n",
    "We conduct a z test on proportions, and t test on continous variables."
   ]
  },
  {
   "cell_type": "markdown",
   "id": "d3be8d69",
   "metadata": {},
   "source": [
    "## Completion Rate"
   ]
  },
  {
   "cell_type": "markdown",
   "id": "e2eeac1f",
   "metadata": {},
   "source": [
    "Null Hypothesis: The completion rate for the Test group (new design) is equal to the completion rate for the Control group (old design).\n",
    "\n",
    "p_test = p_control"
   ]
  },
  {
   "cell_type": "code",
   "execution_count": 29,
   "id": "cdf2d021",
   "metadata": {},
   "outputs": [],
   "source": [
    "import numpy as np\n",
    "import statsmodels.api as sm\n",
    "import pandas as pd\n",
    "import scipy.stats as st\n",
    "from statsmodels.stats.proportion import proportions_ztest"
   ]
  },
  {
   "cell_type": "code",
   "execution_count": 69,
   "id": "8be1f86e",
   "metadata": {},
   "outputs": [
    {
     "data": {
      "text/html": [
       "<div>\n",
       "<style scoped>\n",
       "    .dataframe tbody tr th:only-of-type {\n",
       "        vertical-align: middle;\n",
       "    }\n",
       "\n",
       "    .dataframe tbody tr th {\n",
       "        vertical-align: top;\n",
       "    }\n",
       "\n",
       "    .dataframe thead th {\n",
       "        text-align: right;\n",
       "    }\n",
       "</style>\n",
       "<table border=\"1\" class=\"dataframe\">\n",
       "  <thead>\n",
       "    <tr style=\"text-align: right;\">\n",
       "      <th></th>\n",
       "      <th>client_id</th>\n",
       "      <th>visitor_id</th>\n",
       "      <th>visit_id</th>\n",
       "      <th>process_step</th>\n",
       "      <th>date_time</th>\n",
       "    </tr>\n",
       "  </thead>\n",
       "  <tbody>\n",
       "    <tr>\n",
       "      <th>0</th>\n",
       "      <td>1104</td>\n",
       "      <td>194240915_18158000533</td>\n",
       "      <td>543158812_46395476577_767725</td>\n",
       "      <td>start</td>\n",
       "      <td>2017-06-12 07:49:18</td>\n",
       "    </tr>\n",
       "    <tr>\n",
       "      <th>1</th>\n",
       "      <td>1104</td>\n",
       "      <td>194240915_18158000533</td>\n",
       "      <td>643221571_99977972121_69283</td>\n",
       "      <td>start</td>\n",
       "      <td>2017-06-20 22:31:33</td>\n",
       "    </tr>\n",
       "    <tr>\n",
       "      <th>2</th>\n",
       "      <td>1186</td>\n",
       "      <td>446844663_31615102958</td>\n",
       "      <td>507052512_11309370126_442139</td>\n",
       "      <td>start</td>\n",
       "      <td>2017-04-08 15:59:16</td>\n",
       "    </tr>\n",
       "    <tr>\n",
       "      <th>3</th>\n",
       "      <td>1186</td>\n",
       "      <td>446844663_31615102958</td>\n",
       "      <td>795373564_99931517312_810896</td>\n",
       "      <td>start</td>\n",
       "      <td>2017-04-08 18:05:02</td>\n",
       "    </tr>\n",
       "    <tr>\n",
       "      <th>4</th>\n",
       "      <td>1186</td>\n",
       "      <td>446844663_31615102958</td>\n",
       "      <td>795373564_99931517312_810896</td>\n",
       "      <td>step_1</td>\n",
       "      <td>2017-04-08 18:05:13</td>\n",
       "    </tr>\n",
       "  </tbody>\n",
       "</table>\n",
       "</div>"
      ],
      "text/plain": [
       "   client_id             visitor_id                      visit_id  \\\n",
       "0       1104  194240915_18158000533  543158812_46395476577_767725   \n",
       "1       1104  194240915_18158000533   643221571_99977972121_69283   \n",
       "2       1186  446844663_31615102958  507052512_11309370126_442139   \n",
       "3       1186  446844663_31615102958  795373564_99931517312_810896   \n",
       "4       1186  446844663_31615102958  795373564_99931517312_810896   \n",
       "\n",
       "  process_step            date_time  \n",
       "0        start  2017-06-12 07:49:18  \n",
       "1        start  2017-06-20 22:31:33  \n",
       "2        start  2017-04-08 15:59:16  \n",
       "3        start  2017-04-08 18:05:02  \n",
       "4       step_1  2017-04-08 18:05:13  "
      ]
     },
     "metadata": {},
     "output_type": "display_data"
    },
    {
     "data": {
      "text/html": [
       "<div>\n",
       "<style scoped>\n",
       "    .dataframe tbody tr th:only-of-type {\n",
       "        vertical-align: middle;\n",
       "    }\n",
       "\n",
       "    .dataframe tbody tr th {\n",
       "        vertical-align: top;\n",
       "    }\n",
       "\n",
       "    .dataframe thead th {\n",
       "        text-align: right;\n",
       "    }\n",
       "</style>\n",
       "<table border=\"1\" class=\"dataframe\">\n",
       "  <thead>\n",
       "    <tr style=\"text-align: right;\">\n",
       "      <th></th>\n",
       "      <th>client_id</th>\n",
       "      <th>visitor_id</th>\n",
       "      <th>visit_id</th>\n",
       "      <th>process_step</th>\n",
       "      <th>date_time</th>\n",
       "    </tr>\n",
       "  </thead>\n",
       "  <tbody>\n",
       "    <tr>\n",
       "      <th>0</th>\n",
       "      <td>555</td>\n",
       "      <td>402506806_56087378777</td>\n",
       "      <td>637149525_38041617439_716659</td>\n",
       "      <td>start</td>\n",
       "      <td>2017-04-15 12:57:56</td>\n",
       "    </tr>\n",
       "    <tr>\n",
       "      <th>1</th>\n",
       "      <td>555</td>\n",
       "      <td>402506806_56087378777</td>\n",
       "      <td>637149525_38041617439_716659</td>\n",
       "      <td>step_1</td>\n",
       "      <td>2017-04-15 12:58:03</td>\n",
       "    </tr>\n",
       "    <tr>\n",
       "      <th>2</th>\n",
       "      <td>555</td>\n",
       "      <td>402506806_56087378777</td>\n",
       "      <td>637149525_38041617439_716659</td>\n",
       "      <td>step_2</td>\n",
       "      <td>2017-04-15 12:58:35</td>\n",
       "    </tr>\n",
       "    <tr>\n",
       "      <th>3</th>\n",
       "      <td>555</td>\n",
       "      <td>402506806_56087378777</td>\n",
       "      <td>637149525_38041617439_716659</td>\n",
       "      <td>step_3</td>\n",
       "      <td>2017-04-15 13:00:14</td>\n",
       "    </tr>\n",
       "    <tr>\n",
       "      <th>4</th>\n",
       "      <td>555</td>\n",
       "      <td>402506806_56087378777</td>\n",
       "      <td>637149525_38041617439_716659</td>\n",
       "      <td>confirm</td>\n",
       "      <td>2017-04-15 13:00:34</td>\n",
       "    </tr>\n",
       "  </tbody>\n",
       "</table>\n",
       "</div>"
      ],
      "text/plain": [
       "   client_id             visitor_id                      visit_id  \\\n",
       "0        555  402506806_56087378777  637149525_38041617439_716659   \n",
       "1        555  402506806_56087378777  637149525_38041617439_716659   \n",
       "2        555  402506806_56087378777  637149525_38041617439_716659   \n",
       "3        555  402506806_56087378777  637149525_38041617439_716659   \n",
       "4        555  402506806_56087378777  637149525_38041617439_716659   \n",
       "\n",
       "  process_step            date_time  \n",
       "0        start  2017-04-15 12:57:56  \n",
       "1       step_1  2017-04-15 12:58:03  \n",
       "2       step_2  2017-04-15 12:58:35  \n",
       "3       step_3  2017-04-15 13:00:14  \n",
       "4      confirm  2017-04-15 13:00:34  "
      ]
     },
     "metadata": {},
     "output_type": "display_data"
    }
   ],
   "source": [
    "control = pd.read_csv('../data/clean/merged_control.csv')\n",
    "control = control.drop(columns = 'Unnamed: 0')\n",
    "display(control.head(5))\n",
    "\n",
    "test = pd.read_csv('../data/clean/merged_test.csv')\n",
    "test = test.drop(columns = 'Unnamed: 0')\n",
    "display(test.head(5))"
   ]
  },
  {
   "cell_type": "code",
   "execution_count": 4,
   "id": "d2e17dee",
   "metadata": {},
   "outputs": [
    {
     "name": "stdout",
     "output_type": "stream",
     "text": [
      "Total number of visits in the control group: 28527\n",
      "Visits who completed the process in the control group: 13176\n",
      "\n",
      "Total number of visits in the test group: 30799\n",
      "Visits who completed the process in the test group: 16593\n"
     ]
    }
   ],
   "source": [
    "n_control = control['visit_id'].nunique()\n",
    "n_test = test['visit_id'].nunique()\n",
    "\n",
    "# Identify visits who completed the whole process\n",
    "completed_visits_control = control[control['process_step'] == 'confirm']['visit_id'].nunique()\n",
    "completed_visits_test = test[test['process_step'] == 'confirm']['visit_id'].nunique()\n",
    "\n",
    "print(f\"Total number of visits in the control group: {n_control}\")\n",
    "print(f\"Visits who completed the process in the control group: {completed_visits_control}\\n\")\n",
    "print(f\"Total number of visits in the test group: {n_test}\")\n",
    "print(f\"Visits who completed the process in the test group: {completed_visits_test}\")"
   ]
  },
  {
   "cell_type": "markdown",
   "id": "fab7af64-9e1f-4d21-8f63-be9ef42d1085",
   "metadata": {},
   "source": [
    "## Check for Validity\n",
    "\n",
    "We assume the underlying population is binomial (Probability of x successes in an experiment of success probability p with n trials) when we conduct a Z-test for proportions because the Z-test is based on approximating the sampling distribution of the sample proportion to be normal, using the Central Limit Theorem. The binomial distribution becomes nearly normal as the sample size increases, making the Z-test applicable.\n",
    "\n",
    "The variance on a proportion is given by: var = p * (1 - p) / n"
   ]
  },
  {
   "cell_type": "code",
   "execution_count": 58,
   "id": "0efcb51b-2a22-43e5-a454-af22b6c66b1a",
   "metadata": {},
   "outputs": [
    {
     "data": {
      "text/plain": [
       "1.668"
      ]
     },
     "execution_count": 58,
     "metadata": {},
     "output_type": "execute_result"
    }
   ],
   "source": [
    "n = 120\n",
    "p = 0.95\n",
    "120 * 0.0139"
   ]
  },
  {
   "cell_type": "code",
   "execution_count": 59,
   "id": "2da74d72-fa7d-49a6-b54e-072cd5c2b6eb",
   "metadata": {},
   "outputs": [
    {
     "name": "stdout",
     "output_type": "stream",
     "text": [
      "Completion rate in the test group: 0.539\n",
      "Variance of the completion rate in the test group: 8.068389882502444e-06\n",
      "Completion rate in the control group: 0.462\n",
      "Variance of the completion rate in the control group: 8.068389882502444e-06\n"
     ]
    }
   ],
   "source": [
    "# Prepare the data for the Z-test\n",
    "count = np.array([completed_visits_test, completed_visits_control])  # Success counts\n",
    "nobs = np.array([n_test, n_control])  # Total observations\n",
    "\n",
    "# Calculate completion rates for test and control\n",
    "p = count / nobs\n",
    "\n",
    "# Calculate variance for test and control\n",
    "var = p * (1 - p) / nobs\n",
    "\n",
    "print(f'Completion rate in the test group: {round(p[0],3)}')\n",
    "print(f'Variance of the completion rate in the test group: {var[0]}')\n",
    "print(f'Completion rate in the control group: {round(p[1],3)}')\n",
    "print(f'Variance of the completion rate in the control group: {var[0]}')"
   ]
  },
  {
   "cell_type": "code",
   "execution_count": 20,
   "id": "491f5eaf",
   "metadata": {},
   "outputs": [
    {
     "name": "stdout",
     "output_type": "stream",
     "text": [
      "Z-statistic: 18.7103\n",
      "P-value: 4.081095438268519e-78\n",
      "Reject the null hypothesis: There is a significant difference in completion rates.\n"
     ]
    }
   ],
   "source": [
    "# Perform Two-proportion Z-test\n",
    "z_stat, p_value = sm.stats.proportions_ztest(count, nobs)\n",
    "\n",
    "# Print the results\n",
    "print(f\"Z-statistic: {z_stat:.4f}\")\n",
    "print(f\"P-value: {p_value}\")\n",
    "\n",
    "# Interpret the results\n",
    "alpha = 0.05  # Significance level\n",
    "if p_value < alpha:\n",
    "    print(\"Reject the null hypothesis: There is a significant difference in completion rates.\")\n",
    "else:\n",
    "    print(\"Fail to reject the null hypothesis: No significant difference in completion rates.\")"
   ]
  },
  {
   "cell_type": "markdown",
   "id": "c57fe136",
   "metadata": {},
   "source": [
    "# Completion Rate with a Cost-Effectiveness Threshold"
   ]
  },
  {
   "cell_type": "markdown",
   "id": "94e0e6ba",
   "metadata": {},
   "source": [
    "Null Hypothesis: The completion rate for the test group is equal to or greater than the completion rate for the control group increased by 5%.\n",
    "\n",
    "p_test >= p_control * 1.05"
   ]
  },
  {
   "cell_type": "code",
   "execution_count": 61,
   "id": "03afe9a9",
   "metadata": {},
   "outputs": [
    {
     "name": "stdout",
     "output_type": "stream",
     "text": [
      "Completion rate in the test group: 0.539\n",
      "Completion rate in the control group: 0.485\n"
     ]
    }
   ],
   "source": [
    "count = np.array([completed_visits_test, completed_visits_control])  # Success counts (test, control)\n",
    "nobs = np.array([n_test, n_control])  # Total observations (test, control)\n",
    "\n",
    "count[1] = round(count[1] * 1.05)\n",
    "p = count / nobs\n",
    "\n",
    "print(f'Completion rate in the test group: {round(p[0],3)}')\n",
    "print(f'Completion rate in the control group: {round(p[1],3)}')"
   ]
  },
  {
   "cell_type": "code",
   "execution_count": 64,
   "id": "4d4be076",
   "metadata": {},
   "outputs": [
    {
     "name": "stdout",
     "output_type": "stream",
     "text": [
      "Z-statistic: 13.0919825885706\n",
      "P-value: 3.65929914189837e-39\n",
      "Reject the null hypothesis: The completion rate for the test group is lower than the completion rate for the control group increased by 5%.\n"
     ]
    }
   ],
   "source": [
    "# Perform the two-proportion z-test\n",
    "z_stat, p_value = proportions_ztest(count, nobs)\n",
    "\n",
    "# Print results\n",
    "print(f\"Z-statistic:\", z_stat)\n",
    "print(f\"P-value:\", p_value)\n",
    "\n",
    "alpha = 0.05  # Significance level\n",
    "if p_value < alpha:\n",
    "    print(\"Reject the null hypothesis: The completion rate for the test group is higher than the completion rate for the control group increased by 5%.\")\n",
    "else:\n",
    "    print(\"Fail to reject the null hypothesis: No significant difference in completion rates.\")"
   ]
  },
  {
   "cell_type": "markdown",
   "id": "6e8da0b0-2baa-4e11-a0b3-02f0939d1fc2",
   "metadata": {},
   "source": [
    "# Errors"
   ]
  },
  {
   "cell_type": "code",
   "execution_count": 73,
   "id": "679fb558-e418-4ebf-a305-0bedcc9020d5",
   "metadata": {},
   "outputs": [
    {
     "name": "stdout",
     "output_type": "stream",
     "text": [
      "Total number of visits in the control group: 74848\n",
      "Visits who completed the process in the control group: 4053\n",
      "\n",
      "Total number of visits in the test group: 97803\n",
      "Visits who completed the process in the test group: 7590\n"
     ]
    }
   ],
   "source": [
    "print(f\"Total number of visits in the control group: {74848}\")\n",
    "print(f\"Visits who completed the process in the control group: {4053}\\n\")\n",
    "print(f\"Total number of visits in the test group: {97803}\")\n",
    "print(f\"Visits who completed the process in the test group: {7590}\")"
   ]
  },
  {
   "cell_type": "code",
   "execution_count": 76,
   "id": "c0711973-1a52-4d21-a1d4-fb81ecfbabd8",
   "metadata": {},
   "outputs": [
    {
     "name": "stdout",
     "output_type": "stream",
     "text": [
      "[7.76049814 5.41497435]\n",
      "Z-statistic: 19.2590\n",
      "P-value: 1.1857961039234477e-82\n"
     ]
    }
   ],
   "source": [
    "count = np.array([7590, 4053]) # Error counts\n",
    "nobs = np.array([97803, 74848]) # Total observations\n",
    "\n",
    "p_err = count / nobs * 100\n",
    "print(p_err)\n",
    "z_stat, p_value = sm.stats.proportions_ztest(count, nobs)\n",
    "\n",
    "# Print the results\n",
    "print(f\"Z-statistic: {z_stat:.4f}\")\n",
    "print(f\"P-value: {p_value}\")"
   ]
  },
  {
   "cell_type": "markdown",
   "id": "905202e2",
   "metadata": {},
   "source": [
    "# Age"
   ]
  },
  {
   "cell_type": "markdown",
   "id": "8d6c40f3",
   "metadata": {},
   "source": [
    "You might want to test whether the average age of clients engaging with the new process is the same as those engaging with the old process."
   ]
  },
  {
   "cell_type": "code",
   "execution_count": 34,
   "id": "1d950756",
   "metadata": {},
   "outputs": [
    {
     "data": {
      "text/html": [
       "<div>\n",
       "<style scoped>\n",
       "    .dataframe tbody tr th:only-of-type {\n",
       "        vertical-align: middle;\n",
       "    }\n",
       "\n",
       "    .dataframe tbody tr th {\n",
       "        vertical-align: top;\n",
       "    }\n",
       "\n",
       "    .dataframe thead th {\n",
       "        text-align: right;\n",
       "    }\n",
       "</style>\n",
       "<table border=\"1\" class=\"dataframe\">\n",
       "  <thead>\n",
       "    <tr style=\"text-align: right;\">\n",
       "      <th></th>\n",
       "      <th>client_id</th>\n",
       "      <th>Variation</th>\n",
       "      <th>client_tenure_year</th>\n",
       "      <th>client_tenure_month</th>\n",
       "      <th>client_age</th>\n",
       "      <th>gender</th>\n",
       "      <th>account_number</th>\n",
       "      <th>balance</th>\n",
       "      <th>calls_6_months</th>\n",
       "      <th>logons_6_months</th>\n",
       "    </tr>\n",
       "  </thead>\n",
       "  <tbody>\n",
       "    <tr>\n",
       "      <th>0</th>\n",
       "      <td>9988021</td>\n",
       "      <td>Test</td>\n",
       "      <td>5.0</td>\n",
       "      <td>64.0</td>\n",
       "      <td>79.0</td>\n",
       "      <td>U</td>\n",
       "      <td>2.0</td>\n",
       "      <td>189023.86</td>\n",
       "      <td>1.0</td>\n",
       "      <td>4.0</td>\n",
       "    </tr>\n",
       "    <tr>\n",
       "      <th>1</th>\n",
       "      <td>8320017</td>\n",
       "      <td>Test</td>\n",
       "      <td>22.0</td>\n",
       "      <td>274.0</td>\n",
       "      <td>34.5</td>\n",
       "      <td>M</td>\n",
       "      <td>2.0</td>\n",
       "      <td>36001.90</td>\n",
       "      <td>5.0</td>\n",
       "      <td>8.0</td>\n",
       "    </tr>\n",
       "    <tr>\n",
       "      <th>2</th>\n",
       "      <td>4033851</td>\n",
       "      <td>Control</td>\n",
       "      <td>12.0</td>\n",
       "      <td>149.0</td>\n",
       "      <td>63.5</td>\n",
       "      <td>M</td>\n",
       "      <td>2.0</td>\n",
       "      <td>142642.26</td>\n",
       "      <td>5.0</td>\n",
       "      <td>8.0</td>\n",
       "    </tr>\n",
       "    <tr>\n",
       "      <th>3</th>\n",
       "      <td>1982004</td>\n",
       "      <td>Test</td>\n",
       "      <td>6.0</td>\n",
       "      <td>80.0</td>\n",
       "      <td>44.5</td>\n",
       "      <td>U</td>\n",
       "      <td>2.0</td>\n",
       "      <td>30231.76</td>\n",
       "      <td>1.0</td>\n",
       "      <td>4.0</td>\n",
       "    </tr>\n",
       "    <tr>\n",
       "      <th>4</th>\n",
       "      <td>9294070</td>\n",
       "      <td>Control</td>\n",
       "      <td>5.0</td>\n",
       "      <td>70.0</td>\n",
       "      <td>29.0</td>\n",
       "      <td>U</td>\n",
       "      <td>2.0</td>\n",
       "      <td>34254.54</td>\n",
       "      <td>0.0</td>\n",
       "      <td>3.0</td>\n",
       "    </tr>\n",
       "    <tr>\n",
       "      <th>...</th>\n",
       "      <td>...</td>\n",
       "      <td>...</td>\n",
       "      <td>...</td>\n",
       "      <td>...</td>\n",
       "      <td>...</td>\n",
       "      <td>...</td>\n",
       "      <td>...</td>\n",
       "      <td>...</td>\n",
       "      <td>...</td>\n",
       "      <td>...</td>\n",
       "    </tr>\n",
       "    <tr>\n",
       "      <th>50482</th>\n",
       "      <td>393005</td>\n",
       "      <td>Control</td>\n",
       "      <td>15.0</td>\n",
       "      <td>191.0</td>\n",
       "      <td>52.5</td>\n",
       "      <td>M</td>\n",
       "      <td>2.0</td>\n",
       "      <td>60344.67</td>\n",
       "      <td>1.0</td>\n",
       "      <td>4.0</td>\n",
       "    </tr>\n",
       "    <tr>\n",
       "      <th>50483</th>\n",
       "      <td>2908510</td>\n",
       "      <td>Control</td>\n",
       "      <td>21.0</td>\n",
       "      <td>252.0</td>\n",
       "      <td>34.0</td>\n",
       "      <td>M</td>\n",
       "      <td>3.0</td>\n",
       "      <td>141808.05</td>\n",
       "      <td>6.0</td>\n",
       "      <td>9.0</td>\n",
       "    </tr>\n",
       "    <tr>\n",
       "      <th>50484</th>\n",
       "      <td>7230446</td>\n",
       "      <td>Test</td>\n",
       "      <td>6.0</td>\n",
       "      <td>74.0</td>\n",
       "      <td>62.0</td>\n",
       "      <td>M</td>\n",
       "      <td>2.0</td>\n",
       "      <td>58778.11</td>\n",
       "      <td>2.0</td>\n",
       "      <td>5.0</td>\n",
       "    </tr>\n",
       "    <tr>\n",
       "      <th>50485</th>\n",
       "      <td>5230357</td>\n",
       "      <td>Test</td>\n",
       "      <td>23.0</td>\n",
       "      <td>278.0</td>\n",
       "      <td>30.5</td>\n",
       "      <td>M</td>\n",
       "      <td>2.0</td>\n",
       "      <td>61349.70</td>\n",
       "      <td>0.0</td>\n",
       "      <td>3.0</td>\n",
       "    </tr>\n",
       "    <tr>\n",
       "      <th>50486</th>\n",
       "      <td>6334360</td>\n",
       "      <td>Test</td>\n",
       "      <td>4.0</td>\n",
       "      <td>53.0</td>\n",
       "      <td>66.5</td>\n",
       "      <td>U</td>\n",
       "      <td>2.0</td>\n",
       "      <td>93103.47</td>\n",
       "      <td>6.0</td>\n",
       "      <td>9.0</td>\n",
       "    </tr>\n",
       "  </tbody>\n",
       "</table>\n",
       "<p>50487 rows × 10 columns</p>\n",
       "</div>"
      ],
      "text/plain": [
       "       client_id Variation  client_tenure_year  client_tenure_month  \\\n",
       "0        9988021      Test                 5.0                 64.0   \n",
       "1        8320017      Test                22.0                274.0   \n",
       "2        4033851   Control                12.0                149.0   \n",
       "3        1982004      Test                 6.0                 80.0   \n",
       "4        9294070   Control                 5.0                 70.0   \n",
       "...          ...       ...                 ...                  ...   \n",
       "50482     393005   Control                15.0                191.0   \n",
       "50483    2908510   Control                21.0                252.0   \n",
       "50484    7230446      Test                 6.0                 74.0   \n",
       "50485    5230357      Test                23.0                278.0   \n",
       "50486    6334360      Test                 4.0                 53.0   \n",
       "\n",
       "       client_age gender  account_number    balance  calls_6_months  \\\n",
       "0            79.0      U             2.0  189023.86             1.0   \n",
       "1            34.5      M             2.0   36001.90             5.0   \n",
       "2            63.5      M             2.0  142642.26             5.0   \n",
       "3            44.5      U             2.0   30231.76             1.0   \n",
       "4            29.0      U             2.0   34254.54             0.0   \n",
       "...           ...    ...             ...        ...             ...   \n",
       "50482        52.5      M             2.0   60344.67             1.0   \n",
       "50483        34.0      M             3.0  141808.05             6.0   \n",
       "50484        62.0      M             2.0   58778.11             2.0   \n",
       "50485        30.5      M             2.0   61349.70             0.0   \n",
       "50486        66.5      U             2.0   93103.47             6.0   \n",
       "\n",
       "       logons_6_months  \n",
       "0                  4.0  \n",
       "1                  8.0  \n",
       "2                  8.0  \n",
       "3                  4.0  \n",
       "4                  3.0  \n",
       "...                ...  \n",
       "50482              4.0  \n",
       "50483              9.0  \n",
       "50484              5.0  \n",
       "50485              3.0  \n",
       "50486              9.0  \n",
       "\n",
       "[50487 rows x 10 columns]"
      ]
     },
     "execution_count": 34,
     "metadata": {},
     "output_type": "execute_result"
    }
   ],
   "source": [
    "test = pd.read_csv('../data/clean/client_id_test.csv')\n",
    "control = pd.read_csv('../data/clean/client_id_control.csv')\n",
    "info = pd.read_csv('../data/clean/total_client_info.csv')\n",
    "info"
   ]
  },
  {
   "cell_type": "markdown",
   "id": "ad12c601",
   "metadata": {},
   "source": [
    "## Mean Ages"
   ]
  },
  {
   "cell_type": "code",
   "execution_count": 35,
   "id": "95ff8bff",
   "metadata": {},
   "outputs": [
    {
     "name": "stdout",
     "output_type": "stream",
     "text": [
      "Mean client age test group: 47.164\n",
      "Mean client age control group: 47.498\n"
     ]
    }
   ],
   "source": [
    "info_test = round(info[info['Variation'] == 'Test']['client_age'].mean(), 3)\n",
    "info_control = round(info[info['Variation'] == 'Control']['client_age'].mean(), 3)\n",
    "print('Mean client age test group:', info_test)\n",
    "print('Mean client age control group:', info_control)"
   ]
  },
  {
   "cell_type": "code",
   "execution_count": 66,
   "id": "9f5d32c0",
   "metadata": {},
   "outputs": [
    {
     "name": "stdout",
     "output_type": "stream",
     "text": [
      "t_stat, p_value: -2.42 0.01569\n",
      "We succesfully reject the null hypothesis: Clients in the control group are older on average.\n"
     ]
    },
    {
     "data": {
      "text/plain": [
       "np.float64(0.9843072805386113)"
      ]
     },
     "execution_count": 66,
     "metadata": {},
     "output_type": "execute_result"
    }
   ],
   "source": [
    "info_test = info[info['Variation'] == 'Test']['client_age']\n",
    "info_control = info[info['Variation'] == 'Control']['client_age']\n",
    "t_stat, p_value = st.ttest_ind(info_test, info_control, alternative = 'two-sided', equal_var = False)\n",
    "\n",
    "print('t_stat, p_value:', round(t_stat, 2), round(p_value, 5))\n",
    "if p_value < alpha:\n",
    "    print('We succesfully reject the null hypothesis: Clients in the control group are older on average.')\n",
    "else: \n",
    "    print('We fail to reject the null hypothesis.')\n",
    "\n",
    "1 - p_value"
   ]
  },
  {
   "cell_type": "markdown",
   "id": "fd1fbc7a",
   "metadata": {},
   "source": [
    "# Tenure"
   ]
  },
  {
   "cell_type": "markdown",
   "id": "f63730d5",
   "metadata": {},
   "source": [
    "## Mean Tenure"
   ]
  },
  {
   "cell_type": "code",
   "execution_count": 37,
   "id": "e044233f",
   "metadata": {},
   "outputs": [
    {
     "name": "stdout",
     "output_type": "stream",
     "text": [
      "Mean client tenure test group: 11.983\n",
      "Mean client tenure control group: 12.088\n"
     ]
    }
   ],
   "source": [
    "info_test = round(info[info['Variation'] == 'Test']['client_tenure_year'].mean(), 3)\n",
    "info_control = round(info[info['Variation'] == 'Control']['client_tenure_year'].mean(), 3)\n",
    "print('Mean client tenure test group:', info_test)\n",
    "print('Mean client tenure control group:', info_control)"
   ]
  },
  {
   "cell_type": "code",
   "execution_count": 67,
   "id": "426a08ac",
   "metadata": {},
   "outputs": [
    {
     "name": "stdout",
     "output_type": "stream",
     "text": [
      "t_stat, p_value: -1.71 0.08647\n",
      "We fail to reject the null hypothesis.\n"
     ]
    },
    {
     "data": {
      "text/plain": [
       "np.float64(0.9135259081867357)"
      ]
     },
     "execution_count": 67,
     "metadata": {},
     "output_type": "execute_result"
    }
   ],
   "source": [
    "info_test = info[info['Variation'] == 'Test']['client_tenure_year']\n",
    "info_control = info[info['Variation'] == 'Control']['client_tenure_year']\n",
    "t_stat, p_value = st.ttest_ind(info_test, info_control, alternative = 'two-sided', equal_var = False)\n",
    "\n",
    "print('t_stat, p_value:', round(t_stat, 2), round(p_value, 5))\n",
    "if p_value < alpha:\n",
    "    print('We succesfully reject the null hypothesis: Clients in the control group have been with Vanguard for more years.')\n",
    "else: \n",
    "    print('We fail to reject the null hypothesis.')\n",
    "1 - p_value"
   ]
  },
  {
   "cell_type": "code",
   "execution_count": null,
   "id": "fbc40dfe",
   "metadata": {},
   "outputs": [],
   "source": []
  }
 ],
 "metadata": {
  "kernelspec": {
   "display_name": "venv",
   "language": "python",
   "name": "venv"
  },
  "language_info": {
   "codemirror_mode": {
    "name": "ipython",
    "version": 3
   },
   "file_extension": ".py",
   "mimetype": "text/x-python",
   "name": "python",
   "nbconvert_exporter": "python",
   "pygments_lexer": "ipython3",
   "version": "3.9.13"
  }
 },
 "nbformat": 4,
 "nbformat_minor": 5
}
